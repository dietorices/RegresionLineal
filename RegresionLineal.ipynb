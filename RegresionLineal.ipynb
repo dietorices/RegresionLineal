{
 "cells": [
  {
   "cell_type": "markdown",
   "id": "932c5ba9",
   "metadata": {},
   "source": [
    "# Regresión Lineal"
   ]
  },
  {
   "cell_type": "markdown",
   "id": "91a2247b",
   "metadata": {},
   "source": [
    "En este ejemplo cargaremos un dataset obtenido mediante webscraping y que contiene diversas URLs de articulos sobre Machine Learning.\n",
    "Este archivo contiene mitad de datos reales y mitad de datos generados aleatoriamente por lo que los datos que obtendremos no serán reales."
   ]
  },
  {
   "cell_type": "markdown",
   "id": "cb6ee86c",
   "metadata": {},
   "source": [
    "Este archivo de datos estará compuesto por las siguientes columans:\n",
    "Title: titulo del artículo\n",
    "* url: ruta al artículo\n",
    "* Wordcount: la cantidad de palabras del artículo,\n",
    "* of Links: los enlaces externos que contiene,\n",
    "* of comments: cantidad de comentarios,\n",
    "* Images video: suma de imágenes (o videos),\n",
    "* Elapsed days: la cantidad de días transcurridos (al momento de crear el archivo)\n",
    "* Shares:nuestra columnadesalida queserá la “cantidad de veces que se compartió el artículo”"
   ]
  },
  {
   "cell_type": "markdown",
   "id": "42e7c469",
   "metadata": {},
   "source": [
    "Importamos las librerrías necesarias"
   ]
  },
  {
   "cell_type": "code",
   "execution_count": 5,
   "id": "bcd35840",
   "metadata": {},
   "outputs": [],
   "source": [
    "#librerias necesarias\n",
    "import numpy as np\n",
    "import pandas as pd\n",
    "import seaborn as sns\n",
    "import matplotlib.pyplot as plt\n",
    "%matplotlib inline\n",
    "from mpl_toolkits.mplot3d import Axes3D\n",
    "from matplotlib import _cm\n",
    "plt.rcParams[\"figure.figsize\"] = (16, 9)\n",
    "plt.style.use('ggplot')\n",
    "from sklearn import linear_model\n",
    "from sklearn.metrics import mean_squared_error, r2_score"
   ]
  },
  {
   "cell_type": "code",
   "execution_count": 7,
   "id": "10a207a1",
   "metadata": {},
   "outputs": [
    {
     "data": {
      "text/plain": [
       "(161, 8)"
      ]
     },
     "execution_count": 7,
     "metadata": {},
     "output_type": "execute_result"
    }
   ],
   "source": [
    "data=pd.read_csv(\"data/articulos_ml.csv\")\n",
    "data.shape"
   ]
  },
  {
   "cell_type": "markdown",
   "id": "bede3fe6",
   "metadata": {},
   "source": [
    "Vamos a mostrar los primeros registros de nuestro dataset"
   ]
  },
  {
   "cell_type": "code",
   "execution_count": 8,
   "id": "90a4f4be",
   "metadata": {},
   "outputs": [
    {
     "data": {
      "text/html": [
       "<div>\n",
       "<style scoped>\n",
       "    .dataframe tbody tr th:only-of-type {\n",
       "        vertical-align: middle;\n",
       "    }\n",
       "\n",
       "    .dataframe tbody tr th {\n",
       "        vertical-align: top;\n",
       "    }\n",
       "\n",
       "    .dataframe thead th {\n",
       "        text-align: right;\n",
       "    }\n",
       "</style>\n",
       "<table border=\"1\" class=\"dataframe\">\n",
       "  <thead>\n",
       "    <tr style=\"text-align: right;\">\n",
       "      <th></th>\n",
       "      <th>Title</th>\n",
       "      <th>url</th>\n",
       "      <th>Word count</th>\n",
       "      <th># of Links</th>\n",
       "      <th># of comments</th>\n",
       "      <th># Images video</th>\n",
       "      <th>Elapsed days</th>\n",
       "      <th># Shares</th>\n",
       "    </tr>\n",
       "  </thead>\n",
       "  <tbody>\n",
       "    <tr>\n",
       "      <th>0</th>\n",
       "      <td>What is Machine Learning and how do we use it ...</td>\n",
       "      <td>https://blog.signals.network/what-is-machine-l...</td>\n",
       "      <td>1888</td>\n",
       "      <td>1</td>\n",
       "      <td>2.0</td>\n",
       "      <td>2</td>\n",
       "      <td>34</td>\n",
       "      <td>200000</td>\n",
       "    </tr>\n",
       "    <tr>\n",
       "      <th>1</th>\n",
       "      <td>10 Companies Using Machine Learning in Cool Ways</td>\n",
       "      <td>NaN</td>\n",
       "      <td>1742</td>\n",
       "      <td>9</td>\n",
       "      <td>NaN</td>\n",
       "      <td>9</td>\n",
       "      <td>5</td>\n",
       "      <td>25000</td>\n",
       "    </tr>\n",
       "    <tr>\n",
       "      <th>2</th>\n",
       "      <td>How Artificial Intelligence Is Revolutionizing...</td>\n",
       "      <td>NaN</td>\n",
       "      <td>962</td>\n",
       "      <td>6</td>\n",
       "      <td>0.0</td>\n",
       "      <td>1</td>\n",
       "      <td>10</td>\n",
       "      <td>42000</td>\n",
       "    </tr>\n",
       "    <tr>\n",
       "      <th>3</th>\n",
       "      <td>Dbrain and the Blockchain of Artificial Intell...</td>\n",
       "      <td>NaN</td>\n",
       "      <td>1221</td>\n",
       "      <td>3</td>\n",
       "      <td>NaN</td>\n",
       "      <td>2</td>\n",
       "      <td>68</td>\n",
       "      <td>200000</td>\n",
       "    </tr>\n",
       "    <tr>\n",
       "      <th>4</th>\n",
       "      <td>Nasa finds entire solar system filled with eig...</td>\n",
       "      <td>NaN</td>\n",
       "      <td>2039</td>\n",
       "      <td>1</td>\n",
       "      <td>104.0</td>\n",
       "      <td>4</td>\n",
       "      <td>131</td>\n",
       "      <td>200000</td>\n",
       "    </tr>\n",
       "  </tbody>\n",
       "</table>\n",
       "</div>"
      ],
      "text/plain": [
       "                                               Title  \\\n",
       "0  What is Machine Learning and how do we use it ...   \n",
       "1   10 Companies Using Machine Learning in Cool Ways   \n",
       "2  How Artificial Intelligence Is Revolutionizing...   \n",
       "3  Dbrain and the Blockchain of Artificial Intell...   \n",
       "4  Nasa finds entire solar system filled with eig...   \n",
       "\n",
       "                                                 url  Word count  # of Links  \\\n",
       "0  https://blog.signals.network/what-is-machine-l...        1888           1   \n",
       "1                                                NaN        1742           9   \n",
       "2                                                NaN         962           6   \n",
       "3                                                NaN        1221           3   \n",
       "4                                                NaN        2039           1   \n",
       "\n",
       "   # of comments  # Images video  Elapsed days  # Shares  \n",
       "0            2.0               2            34    200000  \n",
       "1            NaN               9             5     25000  \n",
       "2            0.0               1            10     42000  \n",
       "3            NaN               2            68    200000  \n",
       "4          104.0               4           131    200000  "
      ]
     },
     "execution_count": 8,
     "metadata": {},
     "output_type": "execute_result"
    }
   ],
   "source": [
    "data.head()"
   ]
  }
 ],
 "metadata": {
  "kernelspec": {
   "display_name": "Python 3",
   "language": "python",
   "name": "python3"
  },
  "language_info": {
   "codemirror_mode": {
    "name": "ipython",
    "version": 3
   },
   "file_extension": ".py",
   "mimetype": "text/x-python",
   "name": "python",
   "nbconvert_exporter": "python",
   "pygments_lexer": "ipython3",
   "version": "3.11.9"
  }
 },
 "nbformat": 4,
 "nbformat_minor": 5
}
